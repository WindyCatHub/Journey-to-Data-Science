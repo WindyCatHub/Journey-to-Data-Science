{
 "cells": [
  {
   "cell_type": "code",
   "execution_count": 1,
   "metadata": {},
   "outputs": [],
   "source": [
    "import pandas as pd\n",
    "import matplotlib.pyplot as plt\n",
    "import numpy as np\n",
    "file_json_full = 'ftp://atviriduomenys.nvsc.lt/COVID19.json'\n",
    "json_data_full = pd.read_json(file_json_full)"
   ]
  },
  {
   "cell_type": "code",
   "execution_count": 2,
   "metadata": {},
   "outputs": [
    {
     "data": {
      "text/plain": [
       "Atvejo patvirtinimo data\n",
       "2020-12-31    2046\n",
       "2021-12-31     250\n",
       "Freq: A-DEC, Name: Lytis, dtype: int64"
      ]
     },
     "metadata": {},
     "output_type": "display_data"
    }
   ],
   "source": [
    "json_data_full['Atvejo patvirtinimo data'] = pd.to_datetime(json_data_full['Atvejo patvirtinimo data'])\n",
    "json_data_full_mire = json_data_full[json_data_full['Išeitis'] == 'Mirė']\n",
    "df1 = json_data_full_mire.groupby(['Atvejo patvirtinimo data']).Lytis.count()\n",
    "\n",
    "display(df1.resample('Y', level=0).sum())\n",
    "Covid_death2020 = df1.resample('Y', level=0).sum()[0]"
   ]
  },
  {
   "cell_type": "code",
   "execution_count": 3,
   "metadata": {},
   "outputs": [
    {
     "data": {
      "text/html": [
       "<div>\n",
       "<style scoped>\n",
       "    .dataframe tbody tr th:only-of-type {\n",
       "        vertical-align: middle;\n",
       "    }\n",
       "\n",
       "    .dataframe tbody tr th {\n",
       "        vertical-align: top;\n",
       "    }\n",
       "\n",
       "    .dataframe thead th {\n",
       "        text-align: right;\n",
       "    }\n",
       "</style>\n",
       "<table border=\"1\" class=\"dataframe\">\n",
       "  <thead>\n",
       "    <tr style=\"text-align: right;\">\n",
       "      <th></th>\n",
       "      <th>index</th>\n",
       "      <th>Išeitis</th>\n",
       "    </tr>\n",
       "  </thead>\n",
       "  <tbody>\n",
       "    <tr>\n",
       "      <th>0</th>\n",
       "      <td>Recovered</td>\n",
       "      <td>62.076968</td>\n",
       "    </tr>\n",
       "    <tr>\n",
       "      <th>1</th>\n",
       "      <td>In treatment</td>\n",
       "      <td>35.699196</td>\n",
       "    </tr>\n",
       "    <tr>\n",
       "      <th>2</th>\n",
       "      <td>Died</td>\n",
       "      <td>1.366317</td>\n",
       "    </tr>\n",
       "    <tr>\n",
       "      <th>3</th>\n",
       "      <td>Other</td>\n",
       "      <td>0.857519</td>\n",
       "    </tr>\n",
       "  </tbody>\n",
       "</table>\n",
       "</div>"
      ],
      "text/plain": [
       "          index    Išeitis\n",
       "0     Recovered  62.076968\n",
       "1  In treatment  35.699196\n",
       "2          Died   1.366317\n",
       "3         Other   0.857519"
      ]
     },
     "execution_count": 3,
     "metadata": {},
     "output_type": "execute_result"
    }
   ],
   "source": [
    "json_data_full['Išeitis'].replace('Nesirgo', 'Kita', inplace = True)\n",
    "json_data_full['Išeitis'].replace('', 'Kita', inplace = True)\n",
    "percent_of_all = json_data_full['Išeitis'].value_counts(normalize = True)*100\n",
    "percent_of_all = pd.DataFrame(percent_of_all).reset_index()\n",
    "\n",
    "percent_of_all['index'].replace('Gydomas', 'In treatment', inplace = True)\n",
    "percent_of_all['index'].replace('Pasveiko', 'Recovered', inplace = True)\n",
    "percent_of_all['index'].replace('Mirė', 'Died', inplace = True)\n",
    "percent_of_all['index'].replace('Kita', 'Other', inplace = True)\n",
    "\n",
    "percent_of_all\n",
    "\n",
    "#percent_of_all['index'][1]\n",
    "#percent_of_all['Išeitis'][1]"
   ]
  },
  {
   "cell_type": "code",
   "execution_count": 4,
   "metadata": {},
   "outputs": [
    {
     "data": {
      "image/png": "[encoded data removed]",
      "text/plain": [
       "<Figure size 864x432 with 1 Axes>"
      ]
     },
     "metadata": {},
     "output_type": "display_data"
    }
   ],
   "source": [
    "fig, ax = plt.subplots(figsize=(12, 6), subplot_kw=dict(aspect=\"equal\"))\n",
    "\n",
    "recipe = [percent_of_all['index'][0],percent_of_all['index'][3], percent_of_all['index'][1], percent_of_all['index'][2]]\n",
    "\n",
    "data = [percent_of_all['Išeitis'][0],percent_of_all['Išeitis'][3], percent_of_all['Išeitis'][1], percent_of_all['Išeitis'][2]]\n",
    "palette = [\"#f8d49d\",\"#707070\",\"#4e8d7c\",'#d35d6e']\n",
    "wedges, texts = ax.pie(data, wedgeprops=dict(width=0.5), startangle=-40, colors = palette)\n",
    "\n",
    "bbox_props = dict(boxstyle=\"square,pad=0.3\", fc=\"w\", ec=\"k\", lw=0.72)\n",
    "kw = dict(arrowprops=dict(arrowstyle=\"-\"),\n",
    "          bbox=bbox_props, zorder=0, va=\"center\")\n",
    "\n",
    "for i, p in enumerate(wedges):\n",
    "    ang = (p.theta2 - p.theta1)/2. + p.theta1\n",
    "    y = np.sin(np.deg2rad(ang))\n",
    "    x = np.cos(np.deg2rad(ang))\n",
    "    horizontalalignment = {-1: \"right\", 1: \"left\"}[int(np.sign(x))]\n",
    "    connectionstyle = \"angle,angleA=0,angleB={}\".format(ang)\n",
    "    kw[\"arrowprops\"].update({\"connectionstyle\": connectionstyle})\n",
    "    ax.annotate(recipe[i]+' '+str(round(data[i],2)) + \"%\", \n",
    "                xy=(x, y), xytext=(1.35*np.sign(x), 1.4*y),                \n",
    "                horizontalalignment=horizontalalignment, **kw)\n",
    "\n",
    "ax.set_title(\"Pie chart of Covid-19 data\", fontsize =20 )\n",
    "\n",
    "plt.show()"
   ]
  },
  {
   "cell_type": "code",
   "execution_count": 5,
   "metadata": {},
   "outputs": [
    {
     "data": {
      "text/plain": [
       "Pasveiko    97.846396\n",
       "Mirė         2.153604\n",
       "Name: Išeitis, dtype: float64"
      ]
     },
     "execution_count": 5,
     "metadata": {},
     "output_type": "execute_result"
    }
   ],
   "source": [
    "json_data_completed = json_data_full[json_data_full['Išeitis'].isin(['Pasveiko', 'Mirė'])]\n",
    "percent_of_completed = json_data_completed['Išeitis'].value_counts(normalize = True)*100\n",
    "percent_of_completed"
   ]
  },
  {
   "cell_type": "code",
   "execution_count": 6,
   "metadata": {},
   "outputs": [
    {
     "data": {
      "image/png": "[encoded data removed]",
      "text/plain": [
       "<Figure size 864x432 with 1 Axes>"
      ]
     },
     "metadata": {},
     "output_type": "display_data"
    }
   ],
   "source": [
    "fig, ax = plt.subplots(figsize=(12, 6), subplot_kw=dict(aspect=\"equal\"))\n",
    "\n",
    "recipe = ['Recovered', 'Died']\n",
    "\n",
    "data = [percent_of_completed[0], percent_of_completed[1]]\n",
    "palette = [\"#4e8d7c\",'#d35d6e']\n",
    "wedges, texts = ax.pie(data, wedgeprops=dict(width=0.5), startangle=-40, colors = palette)\n",
    "\n",
    "bbox_props = dict(boxstyle=\"square,pad=0.3\", fc=\"w\", ec=\"k\", lw=0.72)\n",
    "kw = dict(arrowprops=dict(arrowstyle=\"-\"),\n",
    "          bbox=bbox_props, zorder=0, va=\"center\")\n",
    "\n",
    "for i, p in enumerate(wedges):\n",
    "    ang = (p.theta2 - p.theta1)/2. + p.theta1\n",
    "    y = np.sin(np.deg2rad(ang))\n",
    "    x = np.cos(np.deg2rad(ang))\n",
    "    horizontalalignment = {-1: \"right\", 1: \"left\"}[int(np.sign(x))]\n",
    "    connectionstyle = \"angle,angleA=0,angleB={}\".format(ang)\n",
    "    kw[\"arrowprops\"].update({\"connectionstyle\": connectionstyle})\n",
    "    ax.annotate(recipe[i]+' '+str(round(percent_of_completed[i],2)) + \"%\", \n",
    "                xy=(x, y), xytext=(1.35*np.sign(x), 1.4*y),\n",
    "                horizontalalignment=horizontalalignment, **kw)\n",
    "\n",
    "ax.set_title(\"Pie chart of Covid-19 completed cases\", fontsize = 20)\n",
    "\n",
    "plt.show()"
   ]
  },
  {
   "cell_type": "code",
   "execution_count": 7,
   "metadata": {},
   "outputs": [
    {
     "data": {
      "text/plain": [
       "168043"
      ]
     },
     "execution_count": 7,
     "metadata": {},
     "output_type": "execute_result"
    }
   ],
   "source": [
    "json_data_full['Išeitis'].count()"
   ]
  },
  {
   "cell_type": "code",
   "execution_count": 8,
   "metadata": {},
   "outputs": [
    {
     "name": "stdout",
     "output_type": "stream",
     "text": [
      "<class 'pandas.core.frame.DataFrame'>\n",
      "RangeIndex: 6162 entries, 0 to 6161\n",
      "Data columns (total 8 columns):\n",
      " #   Column                        Non-Null Count  Dtype  \n",
      "---  ------                        --------------  -----  \n",
      " 0   Laikotarpis                   6162 non-null   int64  \n",
      " 1   Rodiklis                      6162 non-null   object \n",
      " 2   Apskritys                     6162 non-null   object \n",
      " 3   Amžius (5 m. amžiaus grupės)  6162 non-null   object \n",
      " 4   Lytis                         6162 non-null   object \n",
      " 5   Savaitė                       6162 non-null   object \n",
      " 6   Matavimo vienetai             6162 non-null   object \n",
      " 7   Reikšmė                       6084 non-null   float64\n",
      "dtypes: float64(1), int64(1), object(6)\n",
      "memory usage: 385.2+ KB\n"
     ]
    }
   ],
   "source": [
    "file = r'C:\\Users\\Kęstas\\Desktop\\Data Science project\\Covid ep\\data-table.csv'\n",
    "stat_full = pd.read_csv(file)\n",
    "stat_full.info()"
   ]
  },
  {
   "cell_type": "code",
   "execution_count": 12,
   "metadata": {},
   "outputs": [
    {
     "data": {
      "text/html": [
       "<div>\n",
       "<style scoped>\n",
       "    .dataframe tbody tr th:only-of-type {\n",
       "        vertical-align: middle;\n",
       "    }\n",
       "\n",
       "    .dataframe tbody tr th {\n",
       "        vertical-align: top;\n",
       "    }\n",
       "\n",
       "    .dataframe thead th {\n",
       "        text-align: right;\n",
       "    }\n",
       "</style>\n",
       "<table border=\"1\" class=\"dataframe\">\n",
       "  <thead>\n",
       "    <tr style=\"text-align: right;\">\n",
       "      <th></th>\n",
       "      <th>Laikotarpis</th>\n",
       "      <th>Rodiklis</th>\n",
       "      <th>Apskritys</th>\n",
       "      <th>Amžius (5 m. amžiaus grupės)</th>\n",
       "      <th>Lytis</th>\n",
       "      <th>Savaitė</th>\n",
       "      <th>Matavimo vienetai</th>\n",
       "      <th>Reikšmė</th>\n",
       "    </tr>\n",
       "  </thead>\n",
       "  <tbody>\n",
       "    <tr>\n",
       "      <th>0</th>\n",
       "      <td>2018</td>\n",
       "      <td>Savaitinis mirusiųjų skaičius</td>\n",
       "      <td>Lietuvos Respublika</td>\n",
       "      <td>Iš viso pagal amžių</td>\n",
       "      <td>Vyrai ir moterys</td>\n",
       "      <td>1 savaitė</td>\n",
       "      <td>asmenys</td>\n",
       "      <td>826.0</td>\n",
       "    </tr>\n",
       "    <tr>\n",
       "      <th>1</th>\n",
       "      <td>2018</td>\n",
       "      <td>Savaitinis mirusiųjų skaičius</td>\n",
       "      <td>Lietuvos Respublika</td>\n",
       "      <td>Iš viso pagal amžių</td>\n",
       "      <td>Vyrai</td>\n",
       "      <td>1 savaitė</td>\n",
       "      <td>asmenys</td>\n",
       "      <td>404.0</td>\n",
       "    </tr>\n",
       "    <tr>\n",
       "      <th>2</th>\n",
       "      <td>2018</td>\n",
       "      <td>Savaitinis mirusiųjų skaičius</td>\n",
       "      <td>Lietuvos Respublika</td>\n",
       "      <td>Iš viso pagal amžių</td>\n",
       "      <td>Moterys</td>\n",
       "      <td>1 savaitė</td>\n",
       "      <td>asmenys</td>\n",
       "      <td>422.0</td>\n",
       "    </tr>\n",
       "    <tr>\n",
       "      <th>3</th>\n",
       "      <td>2019</td>\n",
       "      <td>Savaitinis mirusiųjų skaičius</td>\n",
       "      <td>Lietuvos Respublika</td>\n",
       "      <td>Iš viso pagal amžių</td>\n",
       "      <td>Vyrai ir moterys</td>\n",
       "      <td>1 savaitė</td>\n",
       "      <td>asmenys</td>\n",
       "      <td>842.0</td>\n",
       "    </tr>\n",
       "    <tr>\n",
       "      <th>4</th>\n",
       "      <td>2019</td>\n",
       "      <td>Savaitinis mirusiųjų skaičius</td>\n",
       "      <td>Lietuvos Respublika</td>\n",
       "      <td>Iš viso pagal amžių</td>\n",
       "      <td>Vyrai</td>\n",
       "      <td>1 savaitė</td>\n",
       "      <td>asmenys</td>\n",
       "      <td>419.0</td>\n",
       "    </tr>\n",
       "  </tbody>\n",
       "</table>\n",
       "</div>"
      ],
      "text/plain": [
       "   Laikotarpis                       Rodiklis            Apskritys  \\\n",
       "0         2018  Savaitinis mirusiųjų skaičius  Lietuvos Respublika   \n",
       "1         2018  Savaitinis mirusiųjų skaičius  Lietuvos Respublika   \n",
       "2         2018  Savaitinis mirusiųjų skaičius  Lietuvos Respublika   \n",
       "3         2019  Savaitinis mirusiųjų skaičius  Lietuvos Respublika   \n",
       "4         2019  Savaitinis mirusiųjų skaičius  Lietuvos Respublika   \n",
       "\n",
       "  Amžius (5 m. amžiaus grupės)             Lytis    Savaitė Matavimo vienetai  \\\n",
       "0          Iš viso pagal amžių  Vyrai ir moterys  1 savaitė           asmenys   \n",
       "1          Iš viso pagal amžių             Vyrai  1 savaitė           asmenys   \n",
       "2          Iš viso pagal amžių           Moterys  1 savaitė           asmenys   \n",
       "3          Iš viso pagal amžių  Vyrai ir moterys  1 savaitė           asmenys   \n",
       "4          Iš viso pagal amžių             Vyrai  1 savaitė           asmenys   \n",
       "\n",
       "   Reikšmė  \n",
       "0    826.0  \n",
       "1    404.0  \n",
       "2    422.0  \n",
       "3    842.0  \n",
       "4    419.0  "
      ]
     },
     "execution_count": 12,
     "metadata": {},
     "output_type": "execute_result"
    }
   ],
   "source": [
    "LT_population = 2794000\n",
    "stat_full.head()"
   ]
  },
  {
   "cell_type": "code",
   "execution_count": 10,
   "metadata": {},
   "outputs": [],
   "source": [
    "\n",
    "mortality2019 = stat_full[(stat_full['Laikotarpis']==2019) \n",
    "          & (stat_full['Rodiklis']=='Mirusiųjų skaičius pagal mirties priežastis')].sort_values(by = ['Reikšmė'], ascending  = False)"
   ]
  },
  {
   "cell_type": "code",
   "execution_count": 11,
   "metadata": {},
   "outputs": [
    {
     "ename": "KeyError",
     "evalue": "\"['Mirties priežasčių grupės (14)'] not in index\"",
     "output_type": "error",
     "traceback": [
      "\u001b[1;31m---------------------------------------------------------------------------\u001b[0m",
      "\u001b[1;31mKeyError\u001b[0m                                  Traceback (most recent call last)",
      "\u001b[1;32m<ipython-input-11-415fc2769709>\u001b[0m in \u001b[0;36m<module>\u001b[1;34m\u001b[0m\n\u001b[1;32m----> 1\u001b[1;33m \u001b[0mmortality2019\u001b[0m \u001b[1;33m=\u001b[0m \u001b[0mmortality2019\u001b[0m\u001b[1;33m[\u001b[0m\u001b[1;33m[\u001b[0m\u001b[1;34m'Mirties priežasčių grupės (14)'\u001b[0m\u001b[1;33m,\u001b[0m \u001b[1;34m'Reikšmė'\u001b[0m\u001b[1;33m]\u001b[0m\u001b[1;33m]\u001b[0m\u001b[1;33m\u001b[0m\u001b[1;33m\u001b[0m\u001b[0m\n\u001b[0m\u001b[0;32m      2\u001b[0m \u001b[0mmortality2019\u001b[0m \u001b[1;33m=\u001b[0m \u001b[0mmortality2019\u001b[0m\u001b[1;33m[\u001b[0m\u001b[1;33m~\u001b[0m\u001b[1;33m(\u001b[0m\u001b[0mmortality2019\u001b[0m\u001b[1;33m[\u001b[0m\u001b[1;34m'Mirties priežasčių grupės (14)'\u001b[0m\u001b[1;33m]\u001b[0m\u001b[1;33m==\u001b[0m\u001b[1;34m'Iš viso pagal mirties priežastis'\u001b[0m\u001b[1;33m)\u001b[0m\u001b[1;33m]\u001b[0m\u001b[1;33m\u001b[0m\u001b[1;33m\u001b[0m\u001b[0m\n\u001b[0;32m      3\u001b[0m \u001b[0mmortality2019\u001b[0m\u001b[1;33m\u001b[0m\u001b[1;33m\u001b[0m\u001b[0m\n",
      "\u001b[1;32mc:\\users\\kęstas\\appdata\\local\\programs\\python\\python39\\lib\\site-packages\\pandas\\core\\frame.py\u001b[0m in \u001b[0;36m__getitem__\u001b[1;34m(self, key)\u001b[0m\n\u001b[0;32m   2910\u001b[0m             \u001b[1;32mif\u001b[0m \u001b[0mis_iterator\u001b[0m\u001b[1;33m(\u001b[0m\u001b[0mkey\u001b[0m\u001b[1;33m)\u001b[0m\u001b[1;33m:\u001b[0m\u001b[1;33m\u001b[0m\u001b[1;33m\u001b[0m\u001b[0m\n\u001b[0;32m   2911\u001b[0m                 \u001b[0mkey\u001b[0m \u001b[1;33m=\u001b[0m \u001b[0mlist\u001b[0m\u001b[1;33m(\u001b[0m\u001b[0mkey\u001b[0m\u001b[1;33m)\u001b[0m\u001b[1;33m\u001b[0m\u001b[1;33m\u001b[0m\u001b[0m\n\u001b[1;32m-> 2912\u001b[1;33m             \u001b[0mindexer\u001b[0m \u001b[1;33m=\u001b[0m \u001b[0mself\u001b[0m\u001b[1;33m.\u001b[0m\u001b[0mloc\u001b[0m\u001b[1;33m.\u001b[0m\u001b[0m_get_listlike_indexer\u001b[0m\u001b[1;33m(\u001b[0m\u001b[0mkey\u001b[0m\u001b[1;33m,\u001b[0m \u001b[0maxis\u001b[0m\u001b[1;33m=\u001b[0m\u001b[1;36m1\u001b[0m\u001b[1;33m,\u001b[0m \u001b[0mraise_missing\u001b[0m\u001b[1;33m=\u001b[0m\u001b[1;32mTrue\u001b[0m\u001b[1;33m)\u001b[0m\u001b[1;33m[\u001b[0m\u001b[1;36m1\u001b[0m\u001b[1;33m]\u001b[0m\u001b[1;33m\u001b[0m\u001b[1;33m\u001b[0m\u001b[0m\n\u001b[0m\u001b[0;32m   2913\u001b[0m \u001b[1;33m\u001b[0m\u001b[0m\n\u001b[0;32m   2914\u001b[0m         \u001b[1;31m# take() does not accept boolean indexers\u001b[0m\u001b[1;33m\u001b[0m\u001b[1;33m\u001b[0m\u001b[1;33m\u001b[0m\u001b[0m\n",
      "\u001b[1;32mc:\\users\\kęstas\\appdata\\local\\programs\\python\\python39\\lib\\site-packages\\pandas\\core\\indexing.py\u001b[0m in \u001b[0;36m_get_listlike_indexer\u001b[1;34m(self, key, axis, raise_missing)\u001b[0m\n\u001b[0;32m   1252\u001b[0m             \u001b[0mkeyarr\u001b[0m\u001b[1;33m,\u001b[0m \u001b[0mindexer\u001b[0m\u001b[1;33m,\u001b[0m \u001b[0mnew_indexer\u001b[0m \u001b[1;33m=\u001b[0m \u001b[0max\u001b[0m\u001b[1;33m.\u001b[0m\u001b[0m_reindex_non_unique\u001b[0m\u001b[1;33m(\u001b[0m\u001b[0mkeyarr\u001b[0m\u001b[1;33m)\u001b[0m\u001b[1;33m\u001b[0m\u001b[1;33m\u001b[0m\u001b[0m\n\u001b[0;32m   1253\u001b[0m \u001b[1;33m\u001b[0m\u001b[0m\n\u001b[1;32m-> 1254\u001b[1;33m         \u001b[0mself\u001b[0m\u001b[1;33m.\u001b[0m\u001b[0m_validate_read_indexer\u001b[0m\u001b[1;33m(\u001b[0m\u001b[0mkeyarr\u001b[0m\u001b[1;33m,\u001b[0m \u001b[0mindexer\u001b[0m\u001b[1;33m,\u001b[0m \u001b[0maxis\u001b[0m\u001b[1;33m,\u001b[0m \u001b[0mraise_missing\u001b[0m\u001b[1;33m=\u001b[0m\u001b[0mraise_missing\u001b[0m\u001b[1;33m)\u001b[0m\u001b[1;33m\u001b[0m\u001b[1;33m\u001b[0m\u001b[0m\n\u001b[0m\u001b[0;32m   1255\u001b[0m         \u001b[1;32mreturn\u001b[0m \u001b[0mkeyarr\u001b[0m\u001b[1;33m,\u001b[0m \u001b[0mindexer\u001b[0m\u001b[1;33m\u001b[0m\u001b[1;33m\u001b[0m\u001b[0m\n\u001b[0;32m   1256\u001b[0m \u001b[1;33m\u001b[0m\u001b[0m\n",
      "\u001b[1;32mc:\\users\\kęstas\\appdata\\local\\programs\\python\\python39\\lib\\site-packages\\pandas\\core\\indexing.py\u001b[0m in \u001b[0;36m_validate_read_indexer\u001b[1;34m(self, key, indexer, axis, raise_missing)\u001b[0m\n\u001b[0;32m   1302\u001b[0m             \u001b[1;32mif\u001b[0m \u001b[0mraise_missing\u001b[0m\u001b[1;33m:\u001b[0m\u001b[1;33m\u001b[0m\u001b[1;33m\u001b[0m\u001b[0m\n\u001b[0;32m   1303\u001b[0m                 \u001b[0mnot_found\u001b[0m \u001b[1;33m=\u001b[0m \u001b[0mlist\u001b[0m\u001b[1;33m(\u001b[0m\u001b[0mset\u001b[0m\u001b[1;33m(\u001b[0m\u001b[0mkey\u001b[0m\u001b[1;33m)\u001b[0m \u001b[1;33m-\u001b[0m \u001b[0mset\u001b[0m\u001b[1;33m(\u001b[0m\u001b[0max\u001b[0m\u001b[1;33m)\u001b[0m\u001b[1;33m)\u001b[0m\u001b[1;33m\u001b[0m\u001b[1;33m\u001b[0m\u001b[0m\n\u001b[1;32m-> 1304\u001b[1;33m                 \u001b[1;32mraise\u001b[0m \u001b[0mKeyError\u001b[0m\u001b[1;33m(\u001b[0m\u001b[1;34mf\"{not_found} not in index\"\u001b[0m\u001b[1;33m)\u001b[0m\u001b[1;33m\u001b[0m\u001b[1;33m\u001b[0m\u001b[0m\n\u001b[0m\u001b[0;32m   1305\u001b[0m \u001b[1;33m\u001b[0m\u001b[0m\n\u001b[0;32m   1306\u001b[0m             \u001b[1;31m# we skip the warning on Categorical\u001b[0m\u001b[1;33m\u001b[0m\u001b[1;33m\u001b[0m\u001b[1;33m\u001b[0m\u001b[0m\n",
      "\u001b[1;31mKeyError\u001b[0m: \"['Mirties priežasčių grupės (14)'] not in index\""
     ]
    }
   ],
   "source": [
    "mortality2019 = mortality2019[['Mirties priežasčių grupės (14)', 'Reikšmė']]\n",
    "mortality2019 = mortality2019[~(mortality2019['Mirties priežasčių grupės (14)']=='Iš viso pagal mirties priežastis')]\n",
    "mortality2019"
   ]
  },
  {
   "cell_type": "code",
   "execution_count": null,
   "metadata": {},
   "outputs": [],
   "source": [
    "Covid_death2020_dict = {'Mirties priežasčių grupės (14)' : 'Covid19_2020',\n",
    "    'Reikšmė' : Covid_death2020 }\n",
    "c = pd.DataFrame(Covid_death2020_dict, index = [0])"
   ]
  },
  {
   "cell_type": "code",
   "execution_count": null,
   "metadata": {},
   "outputs": [],
   "source": [
    "adapted_table = pd.concat([mortality2019, c])"
   ]
  },
  {
   "cell_type": "code",
   "execution_count": null,
   "metadata": {},
   "outputs": [],
   "source": [
    "Total = adapted_table['Reikšmė'].sum()"
   ]
  },
  {
   "cell_type": "code",
   "execution_count": null,
   "metadata": {},
   "outputs": [],
   "source": [
    "adapted_table['prop'] = round(adapted_table['Reikšmė']/Total*100,2)"
   ]
  },
  {
   "cell_type": "code",
   "execution_count": null,
   "metadata": {},
   "outputs": [],
   "source": [
    "import matplotlib.pyplot as plt\n",
    "import seaborn as sns\n",
    "\n",
    "sns.catplot( x='Reikšmė',y='Mirties priežasčių grupės (14)', \n",
    "                data=adapted_table, \n",
    "                kind=\"bar\", ci=None,\n",
    "                height=5, aspect=3, palette=[\"#4e8d7c\",\"#4e8d7c\",\"#4e8d7c\",\"#4e8d7c\",\"#4e8d7c\",\"#4e8d7c\",\n",
    "                                            \"#4e8d7c\",\"#4e8d7c\",\"#4e8d7c\",\"#4e8d7c\",\"#4e8d7c\",\"#4e8d7c\",\"#4e8d7c\",\n",
    "                                            '#d35d6e'])\n",
    "\n",
    "\n",
    "plt.title('Death numbers with reasons in 2019 plus Covid - 19 death numbers', fontsize =20 )"
   ]
  },
  {
   "cell_type": "code",
   "execution_count": null,
   "metadata": {},
   "outputs": [],
   "source": [
    "file1 = r'C:\\Users\\Kęstas\\Desktop\\Data Science project\\Covid ep\\data-table-agg.csv'\n",
    "stat_agg = pd.read_csv(file1)\n",
    "stat_agg.head()\n"
   ]
  },
  {
   "cell_type": "code",
   "execution_count": null,
   "metadata": {},
   "outputs": [],
   "source": [
    "filter1 = stat_agg['Laikotarpis']==2019\n",
    "filter2 = stat_agg['Laikotarpis']==2020\n",
    "filter3 = stat_agg['Rodiklis'] =='Savaitinis mirusiųjų skaičius'\n",
    "filter4 = stat_agg['Apskritys'] == 'Lietuvos Respublika'\n",
    "filter5 = stat_agg['Lytis'] == 'Vyrai ir moterys'"
   ]
  },
  {
   "cell_type": "code",
   "execution_count": null,
   "metadata": {},
   "outputs": [],
   "source": [
    "stat_agg2019 = stat_agg[filter1  & filter3 & filter4 & filter5]\n",
    "stat_agg2019.head()"
   ]
  },
  {
   "cell_type": "code",
   "execution_count": null,
   "metadata": {},
   "outputs": [],
   "source": [
    "stat_agg2020 = stat_agg[filter2  & filter3 & filter4 & filter5]\n",
    "stat_agg2020.tail()"
   ]
  },
  {
   "cell_type": "code",
   "execution_count": null,
   "metadata": {},
   "outputs": [],
   "source": [
    "df11 = pd.merge(stat_agg2019[['Savaitė','Laikotarpis','Reikšmė']], stat_agg2020[['Savaitė','Laikotarpis','Reikšmė']], on = \"Savaitė\", how = \"inner\")"
   ]
  },
  {
   "cell_type": "code",
   "execution_count": null,
   "metadata": {},
   "outputs": [],
   "source": [
    "Covid_death2020_weekly = df1.resample('W', level=0).sum()\n",
    "Covid_death2020_weekly = pd.DataFrame(Covid_death2020_weekly)\n",
    "Covid_death2020_weekly[\"Savaitė\"] = Covid_death2020_weekly.index.week\n",
    "Covid_death2020_weekly = Covid_death2020_weekly.rename(columns = {'Lytis': \"Total_death_covid\"})"
   ]
  },
  {
   "cell_type": "code",
   "execution_count": null,
   "metadata": {},
   "outputs": [],
   "source": []
  },
  {
   "cell_type": "code",
   "execution_count": null,
   "metadata": {},
   "outputs": [],
   "source": [
    "df11['Savaitė'] = df11['Savaitė'].str.replace(\" savaitė\",\"\").astype('int')\n"
   ]
  },
  {
   "cell_type": "code",
   "execution_count": null,
   "metadata": {},
   "outputs": [],
   "source": [
    "Final_table = pd.merge(df11, Covid_death2020_weekly, on = \"Savaitė\", how = \"left\").fillna(0)\n",
    "Final_table['Reikšmė2020withoutcovid'] = Final_table['Reikšmė_y'] - Final_table['Total_death_covid']\n",
    "Final_table.tail()"
   ]
  },
  {
   "cell_type": "code",
   "execution_count": null,
   "metadata": {},
   "outputs": [],
   "source": [
    "import matplotlib.pyplot as plt\n",
    "import numpy as np\n",
    "fig, ax = plt.subplots(figsize=(15,7),facecolor = \"#F5F5F5\")\n",
    "\n",
    "plt.plot(Final_table['Savaitė'], Final_table['Reikšmė_x'], label = \"2019 deaths\", color = '#433d3c')\n",
    "plt.plot(Final_table['Savaitė'],Final_table['Reikšmė_y'],label = \"2020 deaths with covid - 19\", color = '#00303f')\n",
    "plt.plot(Final_table['Savaitė'],Final_table['Reikšmė2020withoutcovid'],label = \"2020 deaths without covid - 19\", color = 'red')\n",
    "\n",
    "ax.set_ylim(0, 1500)\n",
    "ax.set_title('Covid-19 influence on mortality in Lithuania', fontsize =20)\n",
    "\n",
    "\n",
    "X = np.array(Final_table['Savaitė'])\n",
    "\n",
    "Y1 = np.array(Final_table['Reikšmė_x'])\n",
    "Y2 = np.array(Final_table['Reikšmė_y'])\n",
    "Y3 = np.array(Final_table['Reikšmė2020withoutcovid'])\n",
    "#ax.fill_between(X, Y1,Y2,color='#fff3b2',alpha=.1)\n",
    "ax.fill_between(X, Y2,Y3,color='#f0e2d0')\n",
    "#ax.fill_between(X, Y3,0,color='#fff3b2',alpha=.1)\n",
    "\n",
    "plt.annotate(' Week 31'\n",
    "             ,xy = (31,600)\n",
    "             ,xytext = (31,400),\n",
    "             arrowprops=dict(facecolor='black', shrink=0.05))\n",
    "\n",
    "plt.annotate(' Week 39'\n",
    "             ,xy = (39,750)\n",
    "             ,xytext = (39,900),\n",
    "             arrowprops=dict(facecolor='black', shrink=0.05))\n",
    "\n",
    "plt.legend()\n"
   ]
  },
  {
   "cell_type": "code",
   "execution_count": null,
   "metadata": {},
   "outputs": [],
   "source": []
  }
 ],
 "metadata": {
  "kernelspec": {
   "display_name": "Python 3",
   "language": "python",
   "name": "python3"
  },
  "language_info": {
   "codemirror_mode": {
    "name": "ipython",
    "version": 3
   },
   "file_extension": ".py",
   "mimetype": "text/x-python",
   "name": "python",
   "nbconvert_exporter": "python",
   "pygments_lexer": "ipython3",
   "version": "3.9.0"
  }
 },
 "nbformat": 4,
 "nbformat_minor": 4
}
